{
 "cells": [
  {
   "cell_type": "markdown",
   "id": "42408598",
   "metadata": {},
   "source": [
    "# Smart Flashcard Backend\n",
    "\n",
    "FastAPI-based backend to store flashcards with subject inference."
   ]
  },
  {
   "cell_type": "code",
   "execution_count": 4,
   "id": "75e1e94a",
   "metadata": {},
   "outputs": [
    {
     "name": "stdout",
     "output_type": "stream",
     "text": [
      "Requirement already satisfied: fastapi in c:\\users\\malha\\anaconda3\\lib\\site-packages (0.115.12)\n",
      "Requirement already satisfied: uvicorn in c:\\users\\malha\\anaconda3\\lib\\site-packages (0.34.2)\n",
      "Requirement already satisfied: pydantic in c:\\users\\malha\\anaconda3\\lib\\site-packages (2.10.3)\n",
      "Requirement already satisfied: starlette<0.47.0,>=0.40.0 in c:\\users\\malha\\anaconda3\\lib\\site-packages (from fastapi) (0.46.2)\n",
      "Requirement already satisfied: typing-extensions>=4.8.0 in c:\\users\\malha\\anaconda3\\lib\\site-packages (from fastapi) (4.12.2)\n",
      "Requirement already satisfied: click>=7.0 in c:\\users\\malha\\anaconda3\\lib\\site-packages (from uvicorn) (8.1.7)\n",
      "Requirement already satisfied: h11>=0.8 in c:\\users\\malha\\anaconda3\\lib\\site-packages (from uvicorn) (0.14.0)\n",
      "Requirement already satisfied: annotated-types>=0.6.0 in c:\\users\\malha\\anaconda3\\lib\\site-packages (from pydantic) (0.6.0)\n",
      "Requirement already satisfied: pydantic-core==2.27.1 in c:\\users\\malha\\anaconda3\\lib\\site-packages (from pydantic) (2.27.1)\n",
      "Requirement already satisfied: colorama in c:\\users\\malha\\anaconda3\\lib\\site-packages (from click>=7.0->uvicorn) (0.4.6)\n",
      "Requirement already satisfied: anyio<5,>=3.6.2 in c:\\users\\malha\\anaconda3\\lib\\site-packages (from starlette<0.47.0,>=0.40.0->fastapi) (4.2.0)\n",
      "Requirement already satisfied: idna>=2.8 in c:\\users\\malha\\anaconda3\\lib\\site-packages (from anyio<5,>=3.6.2->starlette<0.47.0,>=0.40.0->fastapi) (3.4)\n",
      "Requirement already satisfied: sniffio>=1.1 in c:\\users\\malha\\anaconda3\\lib\\site-packages (from anyio<5,>=3.6.2->starlette<0.47.0,>=0.40.0->fastapi) (1.3.0)\n",
      "Requirement already satisfied: fastapi in c:\\users\\malha\\anaconda3\\lib\\site-packages (0.115.12)\n",
      "Requirement already satisfied: uvicorn in c:\\users\\malha\\anaconda3\\lib\\site-packages (0.34.2)\n",
      "Requirement already satisfied: starlette<0.47.0,>=0.40.0 in c:\\users\\malha\\anaconda3\\lib\\site-packages (from fastapi) (0.46.2)\n",
      "Requirement already satisfied: pydantic!=1.8,!=1.8.1,!=2.0.0,!=2.0.1,!=2.1.0,<3.0.0,>=1.7.4 in c:\\users\\malha\\anaconda3\\lib\\site-packages (from fastapi) (2.10.3)\n",
      "Requirement already satisfied: typing-extensions>=4.8.0 in c:\\users\\malha\\anaconda3\\lib\\site-packages (from fastapi) (4.12.2)\n",
      "Requirement already satisfied: click>=7.0 in c:\\users\\malha\\anaconda3\\lib\\site-packages (from uvicorn) (8.1.7)\n",
      "Requirement already satisfied: h11>=0.8 in c:\\users\\malha\\anaconda3\\lib\\site-packages (from uvicorn) (0.14.0)\n",
      "Requirement already satisfied: colorama in c:\\users\\malha\\anaconda3\\lib\\site-packages (from click>=7.0->uvicorn) (0.4.6)\n",
      "Requirement already satisfied: annotated-types>=0.6.0 in c:\\users\\malha\\anaconda3\\lib\\site-packages (from pydantic!=1.8,!=1.8.1,!=2.0.0,!=2.0.1,!=2.1.0,<3.0.0,>=1.7.4->fastapi) (0.6.0)\n",
      "Requirement already satisfied: pydantic-core==2.27.1 in c:\\users\\malha\\anaconda3\\lib\\site-packages (from pydantic!=1.8,!=1.8.1,!=2.0.0,!=2.0.1,!=2.1.0,<3.0.0,>=1.7.4->fastapi) (2.27.1)\n",
      "Requirement already satisfied: anyio<5,>=3.6.2 in c:\\users\\malha\\anaconda3\\lib\\site-packages (from starlette<0.47.0,>=0.40.0->fastapi) (4.2.0)\n",
      "Requirement already satisfied: idna>=2.8 in c:\\users\\malha\\anaconda3\\lib\\site-packages (from anyio<5,>=3.6.2->starlette<0.47.0,>=0.40.0->fastapi) (3.4)\n",
      "Requirement already satisfied: sniffio>=1.1 in c:\\users\\malha\\anaconda3\\lib\\site-packages (from anyio<5,>=3.6.2->starlette<0.47.0,>=0.40.0->fastapi) (1.3.0)\n"
     ]
    }
   ],
   "source": [
    "!pip install fastapi uvicorn pydantic\n",
    "!pip install fastapi uvicorn\n",
    "import sqlite3\n",
    "import random\n",
    "from fastapi import FastAPI\n",
    "from pydantic import BaseModel\n",
    "from typing import List"
   ]
  },
  {
   "cell_type": "markdown",
   "id": "81c3c473",
   "metadata": {},
   "source": [
    "### Subject Inference Logic"
   ]
  },
  {
   "cell_type": "code",
   "execution_count": 5,
   "id": "66054811",
   "metadata": {},
   "outputs": [],
   "source": [
    "def infer_subject(text):\n",
    "    text = text.lower()\n",
    "    rules = {\n",
    "        \"photosynthesis\": \"Biology\",\n",
    "        \"mitochondria\": \"Biology\",\n",
    "        \"evolution\": \"Biology\",\n",
    "        \"atom\": \"Chemistry\",\n",
    "        \"molecule\": \"Chemistry\",\n",
    "        \"reaction\": \"Chemistry\",\n",
    "        \"law\": \"Physics\",\n",
    "        \"force\": \"Physics\",\n",
    "        \"acceleration\": \"Physics\",\n",
    "        \"theorem\": \"Mathematics\",\n",
    "        \"equation\": \"Mathematics\",\n",
    "        \"derivative\": \"Mathematics\"\n",
    "    }\n",
    "    for keyword, subject in rules.items():\n",
    "        if keyword in text:\n",
    "            return subject\n",
    "    return \"General\""
   ]
  },
  {
   "cell_type": "markdown",
   "id": "4f1f10a6",
   "metadata": {},
   "source": [
    "### Database Initialization and Functions"
   ]
  },
  {
   "cell_type": "code",
   "execution_count": 6,
   "id": "6fe2d5a8",
   "metadata": {},
   "outputs": [],
   "source": [
    "def init_db():\n",
    "    conn = sqlite3.connect(\"flashcards.db\")\n",
    "    c = conn.cursor()\n",
    "    c.execute(\"\"\"CREATE TABLE IF NOT EXISTS flashcards (\n",
    "                    id INTEGER PRIMARY KEY AUTOINCREMENT,\n",
    "                    student_id TEXT,\n",
    "                    question TEXT,\n",
    "                    answer TEXT,\n",
    "                    subject TEXT\n",
    "                )\"\"\")\n",
    "    conn.commit()\n",
    "    conn.close()\n",
    "\n",
    "init_db()"
   ]
  },
  {
   "cell_type": "code",
   "execution_count": 7,
   "id": "257f05d6",
   "metadata": {},
   "outputs": [],
   "source": [
    "def add_flashcard_to_db(student_id, question, answer, subject):\n",
    "    conn = sqlite3.connect(\"flashcards.db\")\n",
    "    c = conn.cursor()\n",
    "    c.execute(\"INSERT INTO flashcards (student_id, question, answer, subject) VALUES (?, ?, ?, ?)\",\n",
    "              (student_id, question, answer, subject))\n",
    "    conn.commit()\n",
    "    conn.close()"
   ]
  },
  {
   "cell_type": "code",
   "execution_count": 8,
   "id": "db1b9a7f",
   "metadata": {},
   "outputs": [],
   "source": [
    "def get_mixed_flashcards(student_id, limit):\n",
    "    conn = sqlite3.connect(\"flashcards.db\")\n",
    "    c = conn.cursor()\n",
    "    c.execute(\"SELECT question, answer, subject FROM flashcards WHERE student_id = ?\", (student_id,))\n",
    "    rows = c.fetchall()\n",
    "    conn.close()\n",
    "\n",
    "    subject_map = {}\n",
    "    for row in rows:\n",
    "        subject = row[2]\n",
    "        subject_map.setdefault(subject, []).append({\n",
    "            \"question\": row[0],\n",
    "            \"answer\": row[1],\n",
    "            \"subject\": subject\n",
    "        })\n",
    "\n",
    "    mixed_flashcards = []\n",
    "    while subject_map and len(mixed_flashcards) < limit:\n",
    "        for subject in list(subject_map):\n",
    "            if subject_map[subject]:\n",
    "                mixed_flashcards.append(subject_map[subject].pop(0))\n",
    "                if len(mixed_flashcards) == limit:\n",
    "                    break\n",
    "            else:\n",
    "                del subject_map[subject]\n",
    "\n",
    "    random.shuffle(mixed_flashcards)\n",
    "    return mixed_flashcards"
   ]
  },
  {
   "cell_type": "markdown",
   "id": "4e2e29dd",
   "metadata": {},
   "source": [
    "### FastAPI Endpoints"
   ]
  },
  {
   "cell_type": "code",
   "execution_count": 9,
   "id": "6d34eeef",
   "metadata": {},
   "outputs": [],
   "source": [
    "app = FastAPI()\n",
    "\n",
    "class FlashcardRequest(BaseModel):\n",
    "    student_id: str\n",
    "    question: str\n",
    "    answer: str\n",
    "\n",
    "class FlashcardResponse(BaseModel):\n",
    "    message: str\n",
    "    subject: str\n",
    "\n",
    "@app.post(\"/flashcard\", response_model=FlashcardResponse)\n",
    "def add_flashcard(flashcard: FlashcardRequest):\n",
    "    subject = infer_subject(flashcard.question)\n",
    "    add_flashcard_to_db(flashcard.student_id, flashcard.question, flashcard.answer, subject)\n",
    "    return {\"message\": \"Flashcard added successfully\", \"subject\": subject}\n",
    "\n",
    "@app.get(\"/get-subject\")\n",
    "def get_flashcards(student_id: str, limit: int = 5):\n",
    "    flashcards = get_mixed_flashcards(student_id, limit)\n",
    "    return flashcards"
   ]
  }
 ],
 "metadata": {
  "kernelspec": {
   "display_name": "base",
   "language": "python",
   "name": "python3"
  },
  "language_info": {
   "codemirror_mode": {
    "name": "ipython",
    "version": 3
   },
   "file_extension": ".py",
   "mimetype": "text/x-python",
   "name": "python",
   "nbconvert_exporter": "python",
   "pygments_lexer": "ipython3",
   "version": "3.11.7"
  }
 },
 "nbformat": 4,
 "nbformat_minor": 5
}
